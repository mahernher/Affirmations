{
  "cells": [
    {
      "cell_type": "markdown",
      "metadata": {
        "id": "view-in-github",
        "colab_type": "text"
      },
      "source": [
        "<a href=\"https://colab.research.google.com/github/mahernher/Affirmations/blob/master/practica4_parte3.ipynb\" target=\"_parent\"><img src=\"https://colab.research.google.com/assets/colab-badge.svg\" alt=\"Open In Colab\"/></a>"
      ]
    },
    {
      "cell_type": "markdown",
      "metadata": {
        "id": "DLqZeLRaXrIY"
      },
      "source": [
        "# Práctica 4 Parte III. Reducción de la dimensionalidad"
      ]
    },
    {
      "cell_type": "markdown",
      "metadata": {
        "id": "_Awr0NXAXrId"
      },
      "source": [
        "Vamos a ver cómo funciona el algoritmo de PCA utilizado un dataset muy conocido en el mundo del aprendizaje automático: el dataset de los dígitos. \n",
        "\n",
        "El dataset de los dígitos está compuesto por 1797 imágenes de dígitos manuscritos de tamaño 8x8. Este dataset se utiliza normalmente para algoritmos de clasificación (que veremos más adelante), pero también es un buen ejemplo para ver los algoritmos de clustering y de reducción de dimensionalidad. \n",
        "\n",
        "Cada dígito viene representado por un vector de 64 componentes que corresponden a los valores de cada pixel del dígito. Para más información sobre este dataset ver: http://scikit-learn.org/stable/auto_examples/datasets/plot_digits_last_image.html."
      ]
    },
    {
      "cell_type": "markdown",
      "metadata": {
        "id": "VdD3C9U-XrIf"
      },
      "source": [
        "En esta parte de la práctica compararemos los resultados que se obtienen utilizando K-means y K-means combinado con PCA. Para ello empezamos cargando las librerías necesarias. "
      ]
    },
    {
      "cell_type": "code",
      "execution_count": 1,
      "metadata": {
        "id": "YiyWYyD0XrIk"
      },
      "outputs": [],
      "source": [
        "from sklearn.cluster import KMeans\n",
        "from sklearn.datasets import load_digits\n",
        "from sklearn.decomposition import PCA\n",
        "from sklearn.preprocessing import scale\n",
        "import numpy as np\n",
        "from matplotlib import pyplot as plt\n",
        "%matplotlib inline"
      ]
    },
    {
      "cell_type": "markdown",
      "metadata": {
        "id": "XrXHTdjRXrIs"
      },
      "source": [
        "Fijamos la semilla para obtener siempre los mismos resultados."
      ]
    },
    {
      "cell_type": "code",
      "execution_count": 2,
      "metadata": {
        "id": "JsEgWUotXrIu"
      },
      "outputs": [],
      "source": [
        "np.random.seed(42)"
      ]
    },
    {
      "cell_type": "markdown",
      "metadata": {
        "id": "5oEH3Gn7XrI1"
      },
      "source": [
        "Cargamos el dataset de los dígitos."
      ]
    },
    {
      "cell_type": "code",
      "execution_count": 3,
      "metadata": {
        "id": "OcVDnEAMXrI3"
      },
      "outputs": [],
      "source": [
        "digits = load_digits()"
      ]
    },
    {
      "cell_type": "markdown",
      "metadata": {
        "id": "rPzQSmokXrI-"
      },
      "source": [
        "Obtenemos los descriptores de las instancias y estandarizamos (veremos en qué consiste este proceso más adelante) el dataset."
      ]
    },
    {
      "cell_type": "code",
      "execution_count": 4,
      "metadata": {
        "id": "6Vouy_G_XrJA"
      },
      "outputs": [],
      "source": [
        "data = scale(digits.data)"
      ]
    },
    {
      "cell_type": "markdown",
      "metadata": {
        "id": "iPVwzx52XrJF"
      },
      "source": [
        "Mostramos el número de instancias del dataset y el número de descriptores."
      ]
    },
    {
      "cell_type": "code",
      "execution_count": 5,
      "metadata": {
        "colab": {
          "base_uri": "https://localhost:8080/"
        },
        "id": "TPg1y-0eXrJK",
        "outputId": "39935237-cc80-4151-d1bc-bcb1fd8d9af6"
      },
      "outputs": [
        {
          "output_type": "stream",
          "name": "stdout",
          "text": [
            "n_instancias 1797, n_descriptores 64\n"
          ]
        }
      ],
      "source": [
        "n_instancias, n_descriptores = data.shape\n",
        "print(\"n_instancias %d, n_descriptores %d\" % (n_instancias, n_descriptores))"
      ]
    },
    {
      "cell_type": "markdown",
      "metadata": {
        "id": "a5zIfm68XrJQ"
      },
      "source": [
        "Construimos el estimador K-means. Tenemos 10 clusters ya que de antemano sabemos que hay 10 posibles dígitos y por lo tanto 10 posibles grupos."
      ]
    },
    {
      "cell_type": "code",
      "execution_count": 6,
      "metadata": {
        "id": "GFpDQecsXrJS"
      },
      "outputs": [],
      "source": [
        "estimator = KMeans(n_clusters=10)"
      ]
    },
    {
      "cell_type": "markdown",
      "metadata": {
        "id": "N4UCohQlXrJZ"
      },
      "source": [
        "Realizamos la agrupación por clusters y mostramos el tiempo necesario"
      ]
    },
    {
      "cell_type": "code",
      "execution_count": 7,
      "metadata": {
        "colab": {
          "base_uri": "https://localhost:8080/",
          "height": 164
        },
        "id": "xEZRwKPpXrJc",
        "outputId": "4ef37429-f524-4bad-8700-3a68c68bc333"
      },
      "outputs": [
        {
          "output_type": "stream",
          "name": "stderr",
          "text": [
            "/usr/local/lib/python3.9/dist-packages/sklearn/cluster/_kmeans.py:870: FutureWarning: The default value of `n_init` will change from 10 to 'auto' in 1.4. Set the value of `n_init` explicitly to suppress the warning\n",
            "  warnings.warn(\n"
          ]
        },
        {
          "output_type": "stream",
          "name": "stdout",
          "text": [
            "CPU times: user 926 ms, sys: 571 ms, total: 1.5 s\n",
            "Wall time: 811 ms\n"
          ]
        },
        {
          "output_type": "execute_result",
          "data": {
            "text/plain": [
              "KMeans(n_clusters=10)"
            ],
            "text/html": [
              "<style>#sk-container-id-1 {color: black;background-color: white;}#sk-container-id-1 pre{padding: 0;}#sk-container-id-1 div.sk-toggleable {background-color: white;}#sk-container-id-1 label.sk-toggleable__label {cursor: pointer;display: block;width: 100%;margin-bottom: 0;padding: 0.3em;box-sizing: border-box;text-align: center;}#sk-container-id-1 label.sk-toggleable__label-arrow:before {content: \"▸\";float: left;margin-right: 0.25em;color: #696969;}#sk-container-id-1 label.sk-toggleable__label-arrow:hover:before {color: black;}#sk-container-id-1 div.sk-estimator:hover label.sk-toggleable__label-arrow:before {color: black;}#sk-container-id-1 div.sk-toggleable__content {max-height: 0;max-width: 0;overflow: hidden;text-align: left;background-color: #f0f8ff;}#sk-container-id-1 div.sk-toggleable__content pre {margin: 0.2em;color: black;border-radius: 0.25em;background-color: #f0f8ff;}#sk-container-id-1 input.sk-toggleable__control:checked~div.sk-toggleable__content {max-height: 200px;max-width: 100%;overflow: auto;}#sk-container-id-1 input.sk-toggleable__control:checked~label.sk-toggleable__label-arrow:before {content: \"▾\";}#sk-container-id-1 div.sk-estimator input.sk-toggleable__control:checked~label.sk-toggleable__label {background-color: #d4ebff;}#sk-container-id-1 div.sk-label input.sk-toggleable__control:checked~label.sk-toggleable__label {background-color: #d4ebff;}#sk-container-id-1 input.sk-hidden--visually {border: 0;clip: rect(1px 1px 1px 1px);clip: rect(1px, 1px, 1px, 1px);height: 1px;margin: -1px;overflow: hidden;padding: 0;position: absolute;width: 1px;}#sk-container-id-1 div.sk-estimator {font-family: monospace;background-color: #f0f8ff;border: 1px dotted black;border-radius: 0.25em;box-sizing: border-box;margin-bottom: 0.5em;}#sk-container-id-1 div.sk-estimator:hover {background-color: #d4ebff;}#sk-container-id-1 div.sk-parallel-item::after {content: \"\";width: 100%;border-bottom: 1px solid gray;flex-grow: 1;}#sk-container-id-1 div.sk-label:hover label.sk-toggleable__label {background-color: #d4ebff;}#sk-container-id-1 div.sk-serial::before {content: \"\";position: absolute;border-left: 1px solid gray;box-sizing: border-box;top: 0;bottom: 0;left: 50%;z-index: 0;}#sk-container-id-1 div.sk-serial {display: flex;flex-direction: column;align-items: center;background-color: white;padding-right: 0.2em;padding-left: 0.2em;position: relative;}#sk-container-id-1 div.sk-item {position: relative;z-index: 1;}#sk-container-id-1 div.sk-parallel {display: flex;align-items: stretch;justify-content: center;background-color: white;position: relative;}#sk-container-id-1 div.sk-item::before, #sk-container-id-1 div.sk-parallel-item::before {content: \"\";position: absolute;border-left: 1px solid gray;box-sizing: border-box;top: 0;bottom: 0;left: 50%;z-index: -1;}#sk-container-id-1 div.sk-parallel-item {display: flex;flex-direction: column;z-index: 1;position: relative;background-color: white;}#sk-container-id-1 div.sk-parallel-item:first-child::after {align-self: flex-end;width: 50%;}#sk-container-id-1 div.sk-parallel-item:last-child::after {align-self: flex-start;width: 50%;}#sk-container-id-1 div.sk-parallel-item:only-child::after {width: 0;}#sk-container-id-1 div.sk-dashed-wrapped {border: 1px dashed gray;margin: 0 0.4em 0.5em 0.4em;box-sizing: border-box;padding-bottom: 0.4em;background-color: white;}#sk-container-id-1 div.sk-label label {font-family: monospace;font-weight: bold;display: inline-block;line-height: 1.2em;}#sk-container-id-1 div.sk-label-container {text-align: center;}#sk-container-id-1 div.sk-container {/* jupyter's `normalize.less` sets `[hidden] { display: none; }` but bootstrap.min.css set `[hidden] { display: none !important; }` so we also need the `!important` here to be able to override the default hidden behavior on the sphinx rendered scikit-learn.org. See: https://github.com/scikit-learn/scikit-learn/issues/21755 */display: inline-block !important;position: relative;}#sk-container-id-1 div.sk-text-repr-fallback {display: none;}</style><div id=\"sk-container-id-1\" class=\"sk-top-container\"><div class=\"sk-text-repr-fallback\"><pre>KMeans(n_clusters=10)</pre><b>In a Jupyter environment, please rerun this cell to show the HTML representation or trust the notebook. <br />On GitHub, the HTML representation is unable to render, please try loading this page with nbviewer.org.</b></div><div class=\"sk-container\" hidden><div class=\"sk-item\"><div class=\"sk-estimator sk-toggleable\"><input class=\"sk-toggleable__control sk-hidden--visually\" id=\"sk-estimator-id-1\" type=\"checkbox\" checked><label for=\"sk-estimator-id-1\" class=\"sk-toggleable__label sk-toggleable__label-arrow\">KMeans</label><div class=\"sk-toggleable__content\"><pre>KMeans(n_clusters=10)</pre></div></div></div></div></div>"
            ]
          },
          "metadata": {},
          "execution_count": 7
        }
      ],
      "source": [
        "%%time \n",
        "estimator.fit(data)"
      ]
    },
    {
      "cell_type": "markdown",
      "metadata": {
        "id": "amED7EAqXrJi"
      },
      "source": [
        "Ahora definimos una función que nos indica para cada clase la distribución en clusters. Notad que los clusters no están ordenados."
      ]
    },
    {
      "cell_type": "code",
      "execution_count": 8,
      "metadata": {
        "id": "XFj54cqtXrJk"
      },
      "outputs": [],
      "source": [
        "def valida_digits(etiquetas_esperadas, etiquetas_obtenidas):\n",
        "    for i in range(0,10):\n",
        "        res = np.zeros(10).astype(\"uint8\")\n",
        "        for j,etiqueta in enumerate(etiquetas_esperadas):\n",
        "            if(etiqueta==i):\n",
        "                res[etiquetas_obtenidas[j]]+=1\n",
        "        print(\"Dígito \" + str(i) + \": \")\n",
        "        print(res)"
      ]
    },
    {
      "cell_type": "markdown",
      "metadata": {
        "id": "7Gcp_VAiXrJq"
      },
      "source": [
        "Mostramos la distribución de los dígitos."
      ]
    },
    {
      "cell_type": "code",
      "execution_count": 9,
      "metadata": {
        "colab": {
          "base_uri": "https://localhost:8080/"
        },
        "id": "vdbje5V1XrJr",
        "outputId": "49a3e197-88bc-4f31-f104-6285db0e146b"
      },
      "outputs": [
        {
          "output_type": "stream",
          "name": "stdout",
          "text": [
            "Dígito 0: \n",
            "[177   0   0   0   1   0   0   0   0   0]\n",
            "Dígito 1: \n",
            "[ 0  0  0 96  1  0 27  0  0 58]\n",
            "Dígito 2: \n",
            "[ 0  0  2 34  0  0 48  6 82  5]\n",
            "Dígito 3: \n",
            "[  0   0   8   9   0   0   1 152  13   0]\n",
            "Dígito 4: \n",
            "[  0   0   4   3 157   9   0   0   0   8]\n",
            "Dígito 5: \n",
            "[ 0  2  2 59  2  0  0 72 43  2]\n",
            "Dígito 6: \n",
            "[  1 175   0   4   0   0   0   0   0   1]\n",
            "Dígito 7: \n",
            "[  0   0 150   0   0  18   0   0   8   3]\n",
            "Dígito 8: \n",
            "[ 0  3  2 99  0  0  0 46  9 15]\n",
            "Dígito 9: \n",
            "[  0   0   8   5   0   3   0 145   0  19]\n"
          ]
        }
      ],
      "source": [
        "valida_digits(digits.target,estimator.labels_)"
      ]
    },
    {
      "cell_type": "markdown",
      "metadata": {
        "id": "pEtkDeQGXrJw"
      },
      "source": [
        "Repetimos el proceso pero esta vez aplicando el algoritmo de PCA tomando 20 componentes principales"
      ]
    },
    {
      "cell_type": "code",
      "execution_count": 10,
      "metadata": {
        "colab": {
          "base_uri": "https://localhost:8080/",
          "height": 164
        },
        "id": "fZAdRnxYXrJy",
        "outputId": "a74e2a9d-e910-40c7-d3b7-70f060438a38"
      },
      "outputs": [
        {
          "output_type": "stream",
          "name": "stderr",
          "text": [
            "/usr/local/lib/python3.9/dist-packages/sklearn/cluster/_kmeans.py:870: FutureWarning: The default value of `n_init` will change from 10 to 'auto' in 1.4. Set the value of `n_init` explicitly to suppress the warning\n",
            "  warnings.warn(\n"
          ]
        },
        {
          "output_type": "stream",
          "name": "stdout",
          "text": [
            "CPU times: user 516 ms, sys: 374 ms, total: 890 ms\n",
            "Wall time: 458 ms\n"
          ]
        },
        {
          "output_type": "execute_result",
          "data": {
            "text/plain": [
              "KMeans(n_clusters=10)"
            ],
            "text/html": [
              "<style>#sk-container-id-2 {color: black;background-color: white;}#sk-container-id-2 pre{padding: 0;}#sk-container-id-2 div.sk-toggleable {background-color: white;}#sk-container-id-2 label.sk-toggleable__label {cursor: pointer;display: block;width: 100%;margin-bottom: 0;padding: 0.3em;box-sizing: border-box;text-align: center;}#sk-container-id-2 label.sk-toggleable__label-arrow:before {content: \"▸\";float: left;margin-right: 0.25em;color: #696969;}#sk-container-id-2 label.sk-toggleable__label-arrow:hover:before {color: black;}#sk-container-id-2 div.sk-estimator:hover label.sk-toggleable__label-arrow:before {color: black;}#sk-container-id-2 div.sk-toggleable__content {max-height: 0;max-width: 0;overflow: hidden;text-align: left;background-color: #f0f8ff;}#sk-container-id-2 div.sk-toggleable__content pre {margin: 0.2em;color: black;border-radius: 0.25em;background-color: #f0f8ff;}#sk-container-id-2 input.sk-toggleable__control:checked~div.sk-toggleable__content {max-height: 200px;max-width: 100%;overflow: auto;}#sk-container-id-2 input.sk-toggleable__control:checked~label.sk-toggleable__label-arrow:before {content: \"▾\";}#sk-container-id-2 div.sk-estimator input.sk-toggleable__control:checked~label.sk-toggleable__label {background-color: #d4ebff;}#sk-container-id-2 div.sk-label input.sk-toggleable__control:checked~label.sk-toggleable__label {background-color: #d4ebff;}#sk-container-id-2 input.sk-hidden--visually {border: 0;clip: rect(1px 1px 1px 1px);clip: rect(1px, 1px, 1px, 1px);height: 1px;margin: -1px;overflow: hidden;padding: 0;position: absolute;width: 1px;}#sk-container-id-2 div.sk-estimator {font-family: monospace;background-color: #f0f8ff;border: 1px dotted black;border-radius: 0.25em;box-sizing: border-box;margin-bottom: 0.5em;}#sk-container-id-2 div.sk-estimator:hover {background-color: #d4ebff;}#sk-container-id-2 div.sk-parallel-item::after {content: \"\";width: 100%;border-bottom: 1px solid gray;flex-grow: 1;}#sk-container-id-2 div.sk-label:hover label.sk-toggleable__label {background-color: #d4ebff;}#sk-container-id-2 div.sk-serial::before {content: \"\";position: absolute;border-left: 1px solid gray;box-sizing: border-box;top: 0;bottom: 0;left: 50%;z-index: 0;}#sk-container-id-2 div.sk-serial {display: flex;flex-direction: column;align-items: center;background-color: white;padding-right: 0.2em;padding-left: 0.2em;position: relative;}#sk-container-id-2 div.sk-item {position: relative;z-index: 1;}#sk-container-id-2 div.sk-parallel {display: flex;align-items: stretch;justify-content: center;background-color: white;position: relative;}#sk-container-id-2 div.sk-item::before, #sk-container-id-2 div.sk-parallel-item::before {content: \"\";position: absolute;border-left: 1px solid gray;box-sizing: border-box;top: 0;bottom: 0;left: 50%;z-index: -1;}#sk-container-id-2 div.sk-parallel-item {display: flex;flex-direction: column;z-index: 1;position: relative;background-color: white;}#sk-container-id-2 div.sk-parallel-item:first-child::after {align-self: flex-end;width: 50%;}#sk-container-id-2 div.sk-parallel-item:last-child::after {align-self: flex-start;width: 50%;}#sk-container-id-2 div.sk-parallel-item:only-child::after {width: 0;}#sk-container-id-2 div.sk-dashed-wrapped {border: 1px dashed gray;margin: 0 0.4em 0.5em 0.4em;box-sizing: border-box;padding-bottom: 0.4em;background-color: white;}#sk-container-id-2 div.sk-label label {font-family: monospace;font-weight: bold;display: inline-block;line-height: 1.2em;}#sk-container-id-2 div.sk-label-container {text-align: center;}#sk-container-id-2 div.sk-container {/* jupyter's `normalize.less` sets `[hidden] { display: none; }` but bootstrap.min.css set `[hidden] { display: none !important; }` so we also need the `!important` here to be able to override the default hidden behavior on the sphinx rendered scikit-learn.org. See: https://github.com/scikit-learn/scikit-learn/issues/21755 */display: inline-block !important;position: relative;}#sk-container-id-2 div.sk-text-repr-fallback {display: none;}</style><div id=\"sk-container-id-2\" class=\"sk-top-container\"><div class=\"sk-text-repr-fallback\"><pre>KMeans(n_clusters=10)</pre><b>In a Jupyter environment, please rerun this cell to show the HTML representation or trust the notebook. <br />On GitHub, the HTML representation is unable to render, please try loading this page with nbviewer.org.</b></div><div class=\"sk-container\" hidden><div class=\"sk-item\"><div class=\"sk-estimator sk-toggleable\"><input class=\"sk-toggleable__control sk-hidden--visually\" id=\"sk-estimator-id-2\" type=\"checkbox\" checked><label for=\"sk-estimator-id-2\" class=\"sk-toggleable__label sk-toggleable__label-arrow\">KMeans</label><div class=\"sk-toggleable__content\"><pre>KMeans(n_clusters=10)</pre></div></div></div></div></div>"
            ]
          },
          "metadata": {},
          "execution_count": 10
        }
      ],
      "source": [
        "%%time \n",
        "pca = PCA(n_components=20).fit(data)\n",
        "data_r = pca.transform(data)\n",
        "estimator = KMeans(n_clusters=10)\n",
        "estimator.fit(data_r)"
      ]
    },
    {
      "cell_type": "code",
      "execution_count": 11,
      "metadata": {
        "colab": {
          "base_uri": "https://localhost:8080/"
        },
        "id": "FgkSQYYsXrJ6",
        "outputId": "008eb885-af9c-4510-fc5d-11dced89aafe"
      },
      "outputs": [
        {
          "output_type": "stream",
          "name": "stdout",
          "text": [
            "Dígito 0: \n",
            "[  0   0 177   0   0   0   0   1   0   0]\n",
            "Dígito 1: \n",
            "[58  0  0 96  0  0 27  0  0  1]\n",
            "Dígito 2: \n",
            "[ 6 78  0 36  0  0 51  0  4  2]\n",
            "Dígito 3: \n",
            "[  0  13   0   8   0   0   2   0 151   9]\n",
            "Dígito 4: \n",
            "[  7   0   0   4   9   0   0 157   0   4]\n",
            "Dígito 5: \n",
            "[ 2 42  0 61  0  3  0  2 70  2]\n",
            "Dígito 6: \n",
            "[  1   0   1   4   0 172   3   0   0   0]\n",
            "Dígito 7: \n",
            "[  3   8   0   0  17   0   0   1   0 150]\n",
            "Dígito 8: \n",
            "[16  8  0 97  0  3  0  0 47  3]\n",
            "Dígito 9: \n",
            "[ 19   0   0   4   3   0   3   0 142   9]\n"
          ]
        }
      ],
      "source": [
        "valida_digits(digits.target,estimator.labels_)"
      ]
    },
    {
      "cell_type": "markdown",
      "metadata": {
        "id": "Z8KQ5drNXrJ-"
      },
      "source": [
        "***\n",
        "## Ejercicio \n",
        "Compara los resultados tanto en tiempo, como en distribución de los clusters utilizando PCA y sin utilizarlo."
      ]
    },
    {
      "cell_type": "code",
      "execution_count": null,
      "metadata": {
        "id": "pIxR75i_XrJ_"
      },
      "outputs": [],
      "source": []
    },
    {
      "cell_type": "markdown",
      "metadata": {
        "id": "22bvfaYBXrKH"
      },
      "source": [
        "***"
      ]
    },
    {
      "cell_type": "markdown",
      "metadata": {
        "id": "ytIGSw97XrKI"
      },
      "source": [
        "Utilizando los siguientes comandos podemos ver el porcentaje de varianza explicado por cada una de las componentes de PCA y el total."
      ]
    },
    {
      "cell_type": "code",
      "execution_count": 12,
      "metadata": {
        "colab": {
          "base_uri": "https://localhost:8080/"
        },
        "id": "Ryk8rfnJXrKK",
        "outputId": "a43f13f0-e696-4867-8128-04701b61c7a2"
      },
      "outputs": [
        {
          "output_type": "stream",
          "name": "stdout",
          "text": [
            "[0.12033916 0.09561054 0.08444415 0.06498408 0.04860155 0.0421412\n",
            " 0.03942083 0.0338938  0.02998218 0.02931999 0.02781802 0.02577053\n",
            " 0.0227529  0.02227158 0.02165106 0.01913676 0.01775422 0.01637672\n",
            " 0.01596214 0.01488264]\n",
            "Varianza total: 79.31140439157596%\n"
          ]
        }
      ],
      "source": [
        "print(pca.explained_variance_ratio_)\n",
        "print(\"Varianza total: \" + str(100*np.sum(pca.explained_variance_ratio_))+ \"%\")"
      ]
    },
    {
      "cell_type": "markdown",
      "metadata": {
        "id": "HtV3KN4bXrKQ"
      },
      "source": [
        "La siguiente función nos genera un gráfico mostrando la varianza acumulada y la varianza individual que se obtiene al considerar distintos valores como componentes principales (en concreto va tomando valores entre 1 y el número de descriptores). Además esta función muestra la varianza total para cada caso."
      ]
    },
    {
      "cell_type": "code",
      "execution_count": 13,
      "metadata": {
        "id": "RDm3uR0_XrKS"
      },
      "outputs": [],
      "source": [
        "def drawVarianza(data):\n",
        "    pcas = [PCA(n_components=k).fit(data) for k in range(1,len(data[0]))]\n",
        "    var = [pca.explained_variance_ratio_[-1] for pca in pcas]\n",
        "    varianzas = [np.sum(pca.explained_variance_ratio_) for pca in pcas]\n",
        "    for k in range(1,len(data[0])):\n",
        "        print(\"Varianza total (%s componentes): %s\" % (k,str(100 * varianzas[k-1])))\n",
        "    plt.clf()\n",
        "\n",
        "    plt.step(range(1,len(data[0])),varianzas,where='mid',label='varianza acumulada')\n",
        "    plt.bar(range(1,len(data[0])),var,alpha=0.5,align='center',label='varianza individual')\n",
        "    plt.xlabel('Componentes principales')\n",
        "    plt.ylabel('Ratio de varianza explicada')\n",
        "    plt.show()"
      ]
    },
    {
      "cell_type": "code",
      "execution_count": 14,
      "metadata": {
        "colab": {
          "base_uri": "https://localhost:8080/",
          "height": 1000
        },
        "id": "SMSbcFAvXrKc",
        "outputId": "98565827-8e80-4678-bd39-dca856e89d8f"
      },
      "outputs": [
        {
          "output_type": "stream",
          "name": "stdout",
          "text": [
            "Varianza total (1 componentes): 12.033916091922457\n",
            "Varianza total (2 componentes): 21.594970490811374\n",
            "Varianza total (3 componentes): 30.039385378258626\n",
            "Varianza total (4 componentes): 36.53779329659494\n",
            "Varianza total (5 componentes): 41.39794638256272\n",
            "Varianza total (6 componentes): 45.61206387139443\n",
            "Varianza total (7 componentes): 49.55012056853006\n",
            "Varianza total (8 componentes): 52.935237982426855\n",
            "Varianza total (9 componentes): 55.937414536015005\n",
            "Varianza total (10 componentes): 58.86822840704477\n",
            "Varianza total (11 componentes): 61.65028096714473\n",
            "Varianza total (12 componentes): 64.22949923200643\n",
            "Varianza total (13 componentes): 66.50366748079092\n",
            "Varianza total (14 componentes): 68.7320358023145\n",
            "Varianza total (15 componentes): 70.89797722269915\n",
            "Varianza total (16 componentes): 72.81194124406419\n",
            "Varianza total (17 componentes): 74.58017686237474\n",
            "Varianza total (18 componentes): 76.2250044301832\n",
            "Varianza total (19 componentes): 77.82100658040785\n",
            "Varianza total (20 componentes): 79.31007813279358\n",
            "Varianza total (21 componentes): 80.65678346027855\n",
            "Varianza total (22 componentes): 81.92860956090959\n",
            "Varianza total (23 componentes): 83.0964545430312\n",
            "Varianza total (24 componentes): 84.15015522481211\n",
            "Varianza total (25 componentes): 85.11305292112249\n",
            "Varianza total (26 componentes): 86.07232382994266\n",
            "Varianza total (27 componentes): 86.93498549896205\n",
            "Varianza total (28 componentes): 87.7670190163184\n",
            "Varianza total (29 componentes): 88.56703104530044\n",
            "Varianza total (30 componentes): 89.31222108720058\n",
            "Varianza total (31 componentes): 90.04051038188085\n",
            "Varianza total (32 componentes): 90.7343814402997\n",
            "Varianza total (33 componentes): 91.38894497548755\n",
            "Varianza total (34 componentes): 92.02935890519919\n",
            "Varianza total (35 componentes): 92.62157980533836\n",
            "Varianza total (36 componentes): 93.19328810209842\n",
            "Varianza total (37 componentes): 93.71401981375415\n",
            "Varianza total (38 componentes): 94.19854173026107\n",
            "Varianza total (39 componentes): 94.65367428023413\n",
            "Varianza total (40 componentes): 95.07701774625261\n",
            "Varianza total (41 componentes): 95.4813788784914\n",
            "Varianza total (42 componentes): 95.88003764872313\n",
            "Varianza total (43 componentes): 96.23622744805559\n",
            "Varianza total (44 componentes): 96.57749021535345\n",
            "Varianza total (45 componentes): 96.90578599961151\n",
            "Varianza total (46 componentes): 97.21666669955357\n",
            "Varianza total (47 componentes): 97.50552929215989\n",
            "Varianza total (48 componentes): 97.78209799128688\n",
            "Varianza total (49 componentes): 98.04138785631159\n",
            "Varianza total (50 componentes): 98.27590952459663\n",
            "Varianza total (51 componentes): 98.49417631792726\n",
            "Varianza total (52 componentes): 98.69777395245269\n",
            "Varianza total (53 componentes): 98.89328637847251\n",
            "Varianza total (54 componentes): 99.0766048776697\n",
            "Varianza total (55 componentes): 99.24455126516528\n",
            "Varianza total (56 componentes): 99.405787327422\n",
            "Varianza total (57 componentes): 99.5535500215281\n",
            "Varianza total (58 componentes): 99.68866843286519\n",
            "Varianza total (59 componentes): 99.81376917536248\n",
            "Varianza total (60 componentes): 99.91746490551819\n",
            "Varianza total (61 componentes): 100.0\n",
            "Varianza total (62 componentes): 100.0\n",
            "Varianza total (63 componentes): 100.0\n"
          ]
        },
        {
          "output_type": "display_data",
          "data": {
            "text/plain": [
              "<Figure size 640x480 with 1 Axes>"
            ],
            "image/png": "[encoded data removed]"
          },
          "metadata": {}
        }
      ],
      "source": [
        "drawVarianza(data)"
      ]
    },
    {
      "cell_type": "markdown",
      "metadata": {
        "id": "3nS8SrouXrKl"
      },
      "source": [
        "*** \n",
        "## Ejercicio\n",
        "En clase hemos visto que para elegir el número de componentes k, debemos tomar el menor k tal que la varianza total sea mayor que el 99%. En nuestro caso, ¿qué valor deberíamos tomar?"
      ]
    },
    {
      "cell_type": "markdown",
      "source": [
        "El menor k que cumple esos requisitos es k=54 ."
      ],
      "metadata": {
        "id": "QDgIXWKyJwVY"
      }
    },
    {
      "cell_type": "code",
      "execution_count": null,
      "metadata": {
        "id": "x7RsJgIZXrKn"
      },
      "outputs": [],
      "source": []
    },
    {
      "cell_type": "markdown",
      "metadata": {
        "id": "rQfBJTZxXrKt"
      },
      "source": [
        "***"
      ]
    },
    {
      "cell_type": "markdown",
      "metadata": {
        "id": "R02t6x4zXrKu"
      },
      "source": [
        "## Ejercicio adicional\n",
        "Recupera los ficheros de la práctica 3 y repite el análisis hecho para el dataset de los dígitos, pero esta vez utilizando el dataset iris.csv.\n"
      ]
    },
    {
      "cell_type": "code",
      "execution_count": 15,
      "metadata": {
        "colab": {
          "base_uri": "https://localhost:8080/"
        },
        "id": "2C3rL00SXrKv",
        "outputId": "f9c6e5a4-2a48-4711-aae2-798d071f460d"
      },
      "outputs": [
        {
          "output_type": "stream",
          "name": "stdout",
          "text": [
            "--2023-03-31 10:12:50--  https://raw.githubusercontent.com/IA1819/Datasets/master/iris.csv\n",
            "Resolving raw.githubusercontent.com (raw.githubusercontent.com)... 185.199.108.133, 185.199.109.133, 185.199.110.133, ...\n",
            "Connecting to raw.githubusercontent.com (raw.githubusercontent.com)|185.199.108.133|:443... connected.\n",
            "HTTP request sent, awaiting response... 200 OK\n",
            "Length: 4606 (4.5K) [text/plain]\n",
            "Saving to: ‘iris.csv’\n",
            "\n",
            "\riris.csv              0%[                    ]       0  --.-KB/s               \riris.csv            100%[===================>]   4.50K  --.-KB/s    in 0s      \n",
            "\n",
            "2023-03-31 10:12:50 (45.1 MB/s) - ‘iris.csv’ saved [4606/4606]\n",
            "\n"
          ]
        }
      ],
      "source": [
        "!wget https://raw.githubusercontent.com/IA1819/Datasets/master/iris.csv -O iris.csv"
      ]
    },
    {
      "cell_type": "code",
      "source": [
        "import pandas as pd\n",
        "df=pd.read_csv('iris.csv')"
      ],
      "metadata": {
        "id": "whjhP3srJ-sr"
      },
      "execution_count": 26,
      "outputs": []
    },
    {
      "cell_type": "code",
      "source": [
        "XIris=df.iloc[:,:-1]"
      ],
      "metadata": {
        "id": "erD_ZUChKGYz"
      },
      "execution_count": 27,
      "outputs": []
    },
    {
      "cell_type": "code",
      "source": [
        "def valida_iris(etiquetas_esperadas, etiquetas_obtenidas):\n",
        "    for i in ['Iris-setosa','Iris-versicolor','Iris-virginica']:\n",
        "        res = np.zeros(3).astype(\"uint8\")\n",
        "        for j,etiqueta in enumerate(etiquetas_esperadas):\n",
        "            if(etiqueta==i):\n",
        "                res[etiquetas_obtenidas[j]]+=1\n",
        "        print(i+\": \")\n",
        "        print(res)"
      ],
      "metadata": {
        "id": "n3_n5VeKKRHe"
      },
      "execution_count": 28,
      "outputs": []
    },
    {
      "cell_type": "code",
      "source": [
        "estimator = KMeans(n_clusters=3)\n",
        "estimator.fit(XIris)\n",
        "estimator.labels_"
      ],
      "metadata": {
        "id": "VrxFhE6yKXGk",
        "outputId": "d5f980ff-b3d8-4ac0-bc92-3bcfa0ff7bf2",
        "colab": {
          "base_uri": "https://localhost:8080/"
        }
      },
      "execution_count": 29,
      "outputs": [
        {
          "output_type": "stream",
          "name": "stderr",
          "text": [
            "/usr/local/lib/python3.9/dist-packages/sklearn/cluster/_kmeans.py:870: FutureWarning: The default value of `n_init` will change from 10 to 'auto' in 1.4. Set the value of `n_init` explicitly to suppress the warning\n",
            "  warnings.warn(\n"
          ]
        },
        {
          "output_type": "execute_result",
          "data": {
            "text/plain": [
              "array([1, 1, 1, 1, 1, 1, 1, 1, 1, 1, 1, 1, 1, 1, 1, 1, 1, 1, 1, 1, 1, 1,\n",
              "       1, 1, 1, 1, 1, 1, 1, 1, 1, 1, 1, 1, 1, 1, 1, 1, 1, 1, 1, 1, 1, 1,\n",
              "       1, 1, 1, 1, 1, 1, 0, 0, 2, 0, 0, 0, 0, 0, 0, 0, 0, 0, 0, 0, 0, 0,\n",
              "       0, 0, 0, 0, 0, 0, 0, 0, 0, 0, 0, 2, 0, 0, 0, 0, 0, 0, 0, 0, 0, 0,\n",
              "       0, 0, 0, 0, 0, 0, 0, 0, 0, 0, 0, 0, 2, 0, 2, 2, 2, 2, 0, 2, 2, 2,\n",
              "       2, 2, 2, 0, 0, 2, 2, 2, 2, 0, 2, 0, 2, 0, 2, 2, 0, 0, 2, 2, 2, 2,\n",
              "       2, 0, 2, 2, 2, 2, 0, 2, 2, 2, 0, 2, 2, 2, 0, 2, 2, 0], dtype=int32)"
            ]
          },
          "metadata": {},
          "execution_count": 29
        }
      ]
    },
    {
      "cell_type": "code",
      "source": [
        "valida_iris(df.iloc[:,:-1],estimator.labels_)"
      ],
      "metadata": {
        "id": "u_-2-OecKjZ4",
        "outputId": "0512535e-0f3c-478c-abde-109864ee468d",
        "colab": {
          "base_uri": "https://localhost:8080/"
        }
      },
      "execution_count": 30,
      "outputs": [
        {
          "output_type": "stream",
          "name": "stdout",
          "text": [
            "Iris-setosa: \n",
            "[0 0 0]\n",
            "Iris-versicolor: \n",
            "[0 0 0]\n",
            "Iris-virginica: \n",
            "[0 0 0]\n"
          ]
        }
      ]
    },
    {
      "cell_type": "code",
      "source": [
        "pca = PCA(n_components=4).fit(XIris)\n",
        "data_r = pca.transform(XIris)\n",
        "estimator = KMeans(n_clusters=3)\n",
        "estimator.fit(data_r)"
      ],
      "metadata": {
        "id": "kKOPqqtcKo2Y",
        "outputId": "4e62e2d7-ce17-4195-e5a4-96f25f3133a7",
        "colab": {
          "base_uri": "https://localhost:8080/",
          "height": 129
        }
      },
      "execution_count": 32,
      "outputs": [
        {
          "output_type": "stream",
          "name": "stderr",
          "text": [
            "/usr/local/lib/python3.9/dist-packages/sklearn/cluster/_kmeans.py:870: FutureWarning: The default value of `n_init` will change from 10 to 'auto' in 1.4. Set the value of `n_init` explicitly to suppress the warning\n",
            "  warnings.warn(\n"
          ]
        },
        {
          "output_type": "execute_result",
          "data": {
            "text/plain": [
              "KMeans(n_clusters=3)"
            ],
            "text/html": [
              "<style>#sk-container-id-4 {color: black;background-color: white;}#sk-container-id-4 pre{padding: 0;}#sk-container-id-4 div.sk-toggleable {background-color: white;}#sk-container-id-4 label.sk-toggleable__label {cursor: pointer;display: block;width: 100%;margin-bottom: 0;padding: 0.3em;box-sizing: border-box;text-align: center;}#sk-container-id-4 label.sk-toggleable__label-arrow:before {content: \"▸\";float: left;margin-right: 0.25em;color: #696969;}#sk-container-id-4 label.sk-toggleable__label-arrow:hover:before {color: black;}#sk-container-id-4 div.sk-estimator:hover label.sk-toggleable__label-arrow:before {color: black;}#sk-container-id-4 div.sk-toggleable__content {max-height: 0;max-width: 0;overflow: hidden;text-align: left;background-color: #f0f8ff;}#sk-container-id-4 div.sk-toggleable__content pre {margin: 0.2em;color: black;border-radius: 0.25em;background-color: #f0f8ff;}#sk-container-id-4 input.sk-toggleable__control:checked~div.sk-toggleable__content {max-height: 200px;max-width: 100%;overflow: auto;}#sk-container-id-4 input.sk-toggleable__control:checked~label.sk-toggleable__label-arrow:before {content: \"▾\";}#sk-container-id-4 div.sk-estimator input.sk-toggleable__control:checked~label.sk-toggleable__label {background-color: #d4ebff;}#sk-container-id-4 div.sk-label input.sk-toggleable__control:checked~label.sk-toggleable__label {background-color: #d4ebff;}#sk-container-id-4 input.sk-hidden--visually {border: 0;clip: rect(1px 1px 1px 1px);clip: rect(1px, 1px, 1px, 1px);height: 1px;margin: -1px;overflow: hidden;padding: 0;position: absolute;width: 1px;}#sk-container-id-4 div.sk-estimator {font-family: monospace;background-color: #f0f8ff;border: 1px dotted black;border-radius: 0.25em;box-sizing: border-box;margin-bottom: 0.5em;}#sk-container-id-4 div.sk-estimator:hover {background-color: #d4ebff;}#sk-container-id-4 div.sk-parallel-item::after {content: \"\";width: 100%;border-bottom: 1px solid gray;flex-grow: 1;}#sk-container-id-4 div.sk-label:hover label.sk-toggleable__label {background-color: #d4ebff;}#sk-container-id-4 div.sk-serial::before {content: \"\";position: absolute;border-left: 1px solid gray;box-sizing: border-box;top: 0;bottom: 0;left: 50%;z-index: 0;}#sk-container-id-4 div.sk-serial {display: flex;flex-direction: column;align-items: center;background-color: white;padding-right: 0.2em;padding-left: 0.2em;position: relative;}#sk-container-id-4 div.sk-item {position: relative;z-index: 1;}#sk-container-id-4 div.sk-parallel {display: flex;align-items: stretch;justify-content: center;background-color: white;position: relative;}#sk-container-id-4 div.sk-item::before, #sk-container-id-4 div.sk-parallel-item::before {content: \"\";position: absolute;border-left: 1px solid gray;box-sizing: border-box;top: 0;bottom: 0;left: 50%;z-index: -1;}#sk-container-id-4 div.sk-parallel-item {display: flex;flex-direction: column;z-index: 1;position: relative;background-color: white;}#sk-container-id-4 div.sk-parallel-item:first-child::after {align-self: flex-end;width: 50%;}#sk-container-id-4 div.sk-parallel-item:last-child::after {align-self: flex-start;width: 50%;}#sk-container-id-4 div.sk-parallel-item:only-child::after {width: 0;}#sk-container-id-4 div.sk-dashed-wrapped {border: 1px dashed gray;margin: 0 0.4em 0.5em 0.4em;box-sizing: border-box;padding-bottom: 0.4em;background-color: white;}#sk-container-id-4 div.sk-label label {font-family: monospace;font-weight: bold;display: inline-block;line-height: 1.2em;}#sk-container-id-4 div.sk-label-container {text-align: center;}#sk-container-id-4 div.sk-container {/* jupyter's `normalize.less` sets `[hidden] { display: none; }` but bootstrap.min.css set `[hidden] { display: none !important; }` so we also need the `!important` here to be able to override the default hidden behavior on the sphinx rendered scikit-learn.org. See: https://github.com/scikit-learn/scikit-learn/issues/21755 */display: inline-block !important;position: relative;}#sk-container-id-4 div.sk-text-repr-fallback {display: none;}</style><div id=\"sk-container-id-4\" class=\"sk-top-container\"><div class=\"sk-text-repr-fallback\"><pre>KMeans(n_clusters=3)</pre><b>In a Jupyter environment, please rerun this cell to show the HTML representation or trust the notebook. <br />On GitHub, the HTML representation is unable to render, please try loading this page with nbviewer.org.</b></div><div class=\"sk-container\" hidden><div class=\"sk-item\"><div class=\"sk-estimator sk-toggleable\"><input class=\"sk-toggleable__control sk-hidden--visually\" id=\"sk-estimator-id-4\" type=\"checkbox\" checked><label for=\"sk-estimator-id-4\" class=\"sk-toggleable__label sk-toggleable__label-arrow\">KMeans</label><div class=\"sk-toggleable__content\"><pre>KMeans(n_clusters=3)</pre></div></div></div></div></div>"
            ]
          },
          "metadata": {},
          "execution_count": 32
        }
      ]
    },
    {
      "cell_type": "code",
      "source": [
        "print(pca.explained_variance_ratio_)\n",
        "print(\"Varianza total: \" + str(100*np.sum(pca.explained_variance_ratio_))+ \"%\")"
      ],
      "metadata": {
        "id": "7HKsf_2_Kv4n",
        "outputId": "2dc249e2-b20e-4ccb-ddb6-8f7b697f6cb9",
        "colab": {
          "base_uri": "https://localhost:8080/"
        }
      },
      "execution_count": 33,
      "outputs": [
        {
          "output_type": "stream",
          "name": "stdout",
          "text": [
            "[0.92461621 0.05301557 0.01718514 0.00518309]\n",
            "Varianza total: 100.00000000000003%\n"
          ]
        }
      ]
    },
    {
      "cell_type": "code",
      "source": [
        "drawVarianza(XIris.values)"
      ],
      "metadata": {
        "id": "t5HZr9rYKygj",
        "outputId": "2369b446-6aa4-4c17-eb49-d1ef932368c6",
        "colab": {
          "base_uri": "https://localhost:8080/",
          "height": 501
        }
      },
      "execution_count": 34,
      "outputs": [
        {
          "output_type": "stream",
          "name": "stdout",
          "text": [
            "Varianza total (1 componentes): 92.46162071742684\n",
            "Varianza total (2 componentes): 97.76317750248035\n",
            "Varianza total (3 componentes): 99.48169145498102\n"
          ]
        },
        {
          "output_type": "display_data",
          "data": {
            "text/plain": [
              "<Figure size 640x480 with 1 Axes>"
            ],
            "image/png": "[encoded data removed]"
          },
          "metadata": {}
        }
      ]
    },
    {
      "cell_type": "markdown",
      "metadata": {
        "id": "2I2SsoPzXszp"
      },
      "source": [
        "## Entrega\n",
        "\n",
        "Recuerda guardar tus cambios en tu repositorio utilizando la opción \"Save a copy in GitHub...\" del menú File."
      ]
    }
  ],
  "metadata": {
    "colab": {
      "name": "practica4_parte3.ipynb",
      "provenance": [],
      "include_colab_link": true
    },
    "kernelspec": {
      "display_name": "Python 3",
      "language": "python",
      "name": "python3"
    },
    "language_info": {
      "codemirror_mode": {
        "name": "ipython",
        "version": 3
      },
      "file_extension": ".py",
      "mimetype": "text/x-python",
      "name": "python",
      "nbconvert_exporter": "python",
      "pygments_lexer": "ipython3",
      "version": "3.6.7"
    }
  },
  "nbformat": 4,
  "nbformat_minor": 0
}