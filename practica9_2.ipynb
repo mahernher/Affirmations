{
  "cells": [
    {
      "cell_type": "markdown",
      "metadata": {
        "id": "view-in-github",
        "colab_type": "text"
      },
      "source": [
        "<a href=\"https://colab.research.google.com/github/mahernher/Affirmations/blob/master/practica9_2.ipynb\" target=\"_parent\"><img src=\"https://colab.research.google.com/assets/colab-badge.svg\" alt=\"Open In Colab\"/></a>"
      ]
    },
    {
      "cell_type": "markdown",
      "metadata": {
        "id": "6phqqXPIv6hp"
      },
      "source": [
        "# Práctica 9 Parte 2: Análisis de sentimientos\n",
        "\n",
        "El análisis de sentimientos es un problema de procesado de lenguaje natural donde se pretende conocer la intención de un texto. En esta práctica vamos a ver cómo predecir el sentimiento, positivo o negativo, de una valoracion de una película.\n",
        "\n",
        "En esta ocasión vamos a utilizar la librería de deep learning [Keras](https://keras.io/).\n",
        "\n",
        "\n",
        "En esta práctica es importante que actives el uso de GPU. Para ello ve al menú Edit -> Notebook settings y en la opción Hardware accelerator selecciona la opción de GPU.\n"
      ]
    },
    {
      "cell_type": "markdown",
      "metadata": {
        "id": "BuxiF_2TwdXJ"
      },
      "source": [
        "## Dataset\n",
        "\n",
        "El dataset usado en esta sesión es el dataset [IMDB](http://ai.stanford.edu/~amaas/data/sentiment/). Dicho dataset contiene 25000 valoraciones (positivas y negativas) para entrenar, y 25000 valoraciones  para testear. El objetivo es ser capaz de determinar si una valoración de una película es positiva o negativa. \n",
        "\n",
        "Keras proporciona acceso directo al dataset IMDB en un formato listo para ser usado por las redes neuronales, lo que evita tener que descargarlo y procesarlo. La función ``imdb.load_data()`` permite cargar el dataset donde las palabras han sido reemplazadas por enteros que indican la popularidad (número de apariciones)  de una palabra en el dataset. "
      ]
    },
    {
      "cell_type": "code",
      "execution_count": 1,
      "metadata": {
        "id": "RKUmkF-Kv5nK",
        "outputId": "9699a707-b4a2-4847-d708-e57e66e0495d",
        "colab": {
          "base_uri": "https://localhost:8080/"
        }
      },
      "outputs": [
        {
          "output_type": "stream",
          "name": "stdout",
          "text": [
            "Downloading data from https://storage.googleapis.com/tensorflow/tf-keras-datasets/imdb.npz\n",
            "17464789/17464789 [==============================] - 0s 0us/step\n"
          ]
        }
      ],
      "source": [
        "import numpy as np\n",
        "from tensorflow import keras\n",
        "from tensorflow.keras import layers\n",
        "from keras.datasets import imdb\n",
        "from matplotlib import pyplot as plt\n",
        "%matplotlib inline\n",
        "\n",
        "(X_train,y_train), (X_test,y_test) = imdb.load_data()"
      ]
    },
    {
      "cell_type": "markdown",
      "metadata": {
        "id": "NUgMh_RNxqxN"
      },
      "source": [
        "A continuación mostramos la forma del dataset"
      ]
    },
    {
      "cell_type": "code",
      "execution_count": 2,
      "metadata": {
        "id": "a-6xEME5xhSL",
        "outputId": "a36f5050-2c55-4c6c-dc79-2420d281d7b1",
        "colab": {
          "base_uri": "https://localhost:8080/"
        }
      },
      "outputs": [
        {
          "output_type": "stream",
          "name": "stdout",
          "text": [
            "Datos entrenamiento: \n",
            "(25000,)\n",
            "(25000,)\n",
            "Datos test: \n",
            "(25000,)\n",
            "(25000,)\n"
          ]
        }
      ],
      "source": [
        "print(\"Datos entrenamiento: \")\n",
        "print(X_train.shape)\n",
        "print(y_train.shape)\n",
        "\n",
        "print(\"Datos test: \")\n",
        "print(X_test.shape)\n",
        "print(y_test.shape)"
      ]
    },
    {
      "cell_type": "markdown",
      "metadata": {
        "id": "v3tU1rzR02ml"
      },
      "source": [
        "Podemos también mostrar que aspecto tienen los elementos de nuestro dataset. "
      ]
    },
    {
      "cell_type": "code",
      "execution_count": 3,
      "metadata": {
        "id": "yp1zZjX30XvF",
        "outputId": "2d5646f3-3c37-446d-ad83-f99c22da5f55",
        "colab": {
          "base_uri": "https://localhost:8080/"
        }
      },
      "outputs": [
        {
          "output_type": "execute_result",
          "data": {
            "text/plain": [
              "[1,\n",
              " 14,\n",
              " 22,\n",
              " 16,\n",
              " 43,\n",
              " 530,\n",
              " 973,\n",
              " 1622,\n",
              " 1385,\n",
              " 65,\n",
              " 458,\n",
              " 4468,\n",
              " 66,\n",
              " 3941,\n",
              " 4,\n",
              " 173,\n",
              " 36,\n",
              " 256,\n",
              " 5,\n",
              " 25,\n",
              " 100,\n",
              " 43,\n",
              " 838,\n",
              " 112,\n",
              " 50,\n",
              " 670,\n",
              " 22665,\n",
              " 9,\n",
              " 35,\n",
              " 480,\n",
              " 284,\n",
              " 5,\n",
              " 150,\n",
              " 4,\n",
              " 172,\n",
              " 112,\n",
              " 167,\n",
              " 21631,\n",
              " 336,\n",
              " 385,\n",
              " 39,\n",
              " 4,\n",
              " 172,\n",
              " 4536,\n",
              " 1111,\n",
              " 17,\n",
              " 546,\n",
              " 38,\n",
              " 13,\n",
              " 447,\n",
              " 4,\n",
              " 192,\n",
              " 50,\n",
              " 16,\n",
              " 6,\n",
              " 147,\n",
              " 2025,\n",
              " 19,\n",
              " 14,\n",
              " 22,\n",
              " 4,\n",
              " 1920,\n",
              " 4613,\n",
              " 469,\n",
              " 4,\n",
              " 22,\n",
              " 71,\n",
              " 87,\n",
              " 12,\n",
              " 16,\n",
              " 43,\n",
              " 530,\n",
              " 38,\n",
              " 76,\n",
              " 15,\n",
              " 13,\n",
              " 1247,\n",
              " 4,\n",
              " 22,\n",
              " 17,\n",
              " 515,\n",
              " 17,\n",
              " 12,\n",
              " 16,\n",
              " 626,\n",
              " 18,\n",
              " 19193,\n",
              " 5,\n",
              " 62,\n",
              " 386,\n",
              " 12,\n",
              " 8,\n",
              " 316,\n",
              " 8,\n",
              " 106,\n",
              " 5,\n",
              " 4,\n",
              " 2223,\n",
              " 5244,\n",
              " 16,\n",
              " 480,\n",
              " 66,\n",
              " 3785,\n",
              " 33,\n",
              " 4,\n",
              " 130,\n",
              " 12,\n",
              " 16,\n",
              " 38,\n",
              " 619,\n",
              " 5,\n",
              " 25,\n",
              " 124,\n",
              " 51,\n",
              " 36,\n",
              " 135,\n",
              " 48,\n",
              " 25,\n",
              " 1415,\n",
              " 33,\n",
              " 6,\n",
              " 22,\n",
              " 12,\n",
              " 215,\n",
              " 28,\n",
              " 77,\n",
              " 52,\n",
              " 5,\n",
              " 14,\n",
              " 407,\n",
              " 16,\n",
              " 82,\n",
              " 10311,\n",
              " 8,\n",
              " 4,\n",
              " 107,\n",
              " 117,\n",
              " 5952,\n",
              " 15,\n",
              " 256,\n",
              " 4,\n",
              " 31050,\n",
              " 7,\n",
              " 3766,\n",
              " 5,\n",
              " 723,\n",
              " 36,\n",
              " 71,\n",
              " 43,\n",
              " 530,\n",
              " 476,\n",
              " 26,\n",
              " 400,\n",
              " 317,\n",
              " 46,\n",
              " 7,\n",
              " 4,\n",
              " 12118,\n",
              " 1029,\n",
              " 13,\n",
              " 104,\n",
              " 88,\n",
              " 4,\n",
              " 381,\n",
              " 15,\n",
              " 297,\n",
              " 98,\n",
              " 32,\n",
              " 2071,\n",
              " 56,\n",
              " 26,\n",
              " 141,\n",
              " 6,\n",
              " 194,\n",
              " 7486,\n",
              " 18,\n",
              " 4,\n",
              " 226,\n",
              " 22,\n",
              " 21,\n",
              " 134,\n",
              " 476,\n",
              " 26,\n",
              " 480,\n",
              " 5,\n",
              " 144,\n",
              " 30,\n",
              " 5535,\n",
              " 18,\n",
              " 51,\n",
              " 36,\n",
              " 28,\n",
              " 224,\n",
              " 92,\n",
              " 25,\n",
              " 104,\n",
              " 4,\n",
              " 226,\n",
              " 65,\n",
              " 16,\n",
              " 38,\n",
              " 1334,\n",
              " 88,\n",
              " 12,\n",
              " 16,\n",
              " 283,\n",
              " 5,\n",
              " 16,\n",
              " 4472,\n",
              " 113,\n",
              " 103,\n",
              " 32,\n",
              " 15,\n",
              " 16,\n",
              " 5345,\n",
              " 19,\n",
              " 178,\n",
              " 32]"
            ]
          },
          "metadata": {},
          "execution_count": 3
        }
      ],
      "source": [
        "X_train[0]"
      ]
    },
    {
      "cell_type": "markdown",
      "metadata": {
        "id": "Vny1jGOW07rt"
      },
      "source": [
        "A partir de la instrucción anterior podemos ver que los elementos de nuestro dataset se representan mediante una lista de enteros, donde cada entero está asociado a una palabra. Para restaurar el mensaje original podemos ejecutar el siguiente comando."
      ]
    },
    {
      "cell_type": "code",
      "execution_count": 4,
      "metadata": {
        "id": "2U-wuB5V1HlN",
        "outputId": "72a84902-11a1-444e-9f53-efa876a2c136",
        "colab": {
          "base_uri": "https://localhost:8080/",
          "height": 226
        }
      },
      "outputs": [
        {
          "output_type": "stream",
          "name": "stdout",
          "text": [
            "Downloading data from https://storage.googleapis.com/tensorflow/tf-keras-datasets/imdb_word_index.json\n",
            "1641221/1641221 [==============================] - 0s 0us/step\n"
          ]
        },
        {
          "output_type": "execute_result",
          "data": {
            "text/plain": [
              "\"? this film was just brilliant casting location scenery story direction everyone's really suited the part they played and you could just imagine being there robert redford's is an amazing actor and now the same being director norman's father came from the same scottish island as myself so i loved the fact there was a real connection with this film the witty remarks throughout the film were great it was just brilliant so much that i bought the film as soon as it was released for retail and would recommend it to everyone to watch and the fly fishing was amazing really cried at the end it was so sad and you know what they say if you cry at a film it must have been good and this definitely was also congratulations to the two little boy's that played the part's of norman and paul they were just brilliant children are often left out of the praising list i think because the stars that play them all grown up are such a big profile for the whole film but these children are amazing and should be praised for what they have done don't you think the whole story was so lovely because it was true and was someone's life after all that was shared with us all\""
            ],
            "application/vnd.google.colaboratory.intrinsic+json": {
              "type": "string"
            }
          },
          "metadata": {},
          "execution_count": 4
        }
      ],
      "source": [
        "word_index = imdb.get_word_index()\n",
        "reverse_word_index = dict([(value, key) for (key, value) in word_index.items()])\n",
        "' '.join([reverse_word_index.get(i - 3, '?') for i in X_train[0]])"
      ]
    },
    {
      "cell_type": "markdown",
      "metadata": {
        "id": "i2xguDlUx4HE"
      },
      "source": [
        "Podemos también mostrar el número de clases (veremos que nos devuelve dos clases, el 0 representa una valoración negativa y el 1 una valoración positiva)"
      ]
    },
    {
      "cell_type": "code",
      "execution_count": 5,
      "metadata": {
        "id": "R2Is1hLMx3lH",
        "outputId": "71621ec2-e7e3-4d24-8aef-8101872167cd",
        "colab": {
          "base_uri": "https://localhost:8080/"
        }
      },
      "outputs": [
        {
          "output_type": "stream",
          "name": "stdout",
          "text": [
            "Clases: \n",
            "[0 1]\n"
          ]
        }
      ],
      "source": [
        "print(\"Clases: \")\n",
        "print(np.unique(y_train))"
      ]
    },
    {
      "cell_type": "markdown",
      "metadata": {
        "id": "yXAyv1tRyA0p"
      },
      "source": [
        "También podemos ver el número total de palabras del dataset. "
      ]
    },
    {
      "cell_type": "code",
      "execution_count": 6,
      "metadata": {
        "id": "V-wdh746x0ys",
        "outputId": "db1af6a1-e6cc-4c6c-baeb-7c86b3a31cb6",
        "colab": {
          "base_uri": "https://localhost:8080/"
        }
      },
      "outputs": [
        {
          "output_type": "stream",
          "name": "stdout",
          "text": [
            "Número de palabras: \n",
            "88585\n"
          ]
        }
      ],
      "source": [
        "print(\"Número de palabras: \")\n",
        "print(len(np.unique(np.hstack(X_train))))"
      ]
    },
    {
      "cell_type": "markdown",
      "metadata": {
        "id": "oI_wbtThyLeE"
      },
      "source": [
        "Finalmente, podemos ver la longitud media de las valoraciones. "
      ]
    },
    {
      "cell_type": "code",
      "execution_count": 7,
      "metadata": {
        "id": "LDpgxcCKyHZy",
        "outputId": "6cb32b22-18ef-47d9-c5aa-4e1a41a34a8e",
        "colab": {
          "base_uri": "https://localhost:8080/",
          "height": 465
        }
      },
      "outputs": [
        {
          "output_type": "stream",
          "name": "stdout",
          "text": [
            "Longitud media: \n",
            "Media 238.71 palabras (176.493674)\n"
          ]
        },
        {
          "output_type": "display_data",
          "data": {
            "text/plain": [
              "<Figure size 640x480 with 2 Axes>"
            ],
            "image/png": "[encoded data removed]"
          },
          "metadata": {}
        }
      ],
      "source": [
        "print(\"Longitud media: \")\n",
        "result = [len(x) for x in X_train]\n",
        "print(\"Media %.2f palabras (%f)\" % (np.mean(result),np.std(result)))\n",
        "plt.subplot(121)\n",
        "plt.boxplot(result)\n",
        "plt.subplot(122)\n",
        "plt.hist(result)\n",
        "plt.show()"
      ]
    },
    {
      "cell_type": "markdown",
      "metadata": {
        "id": "sporAx6Fy8U2"
      },
      "source": [
        "##### Ejercicio\n",
        "A partir de los diagramas anteriores, ¿qué puedes decir del tamaño de las valoraciones? ¿Cuál sería el tamaño de la valoración más larga (para esta pregunta puedes ejecutar alguna instrucción adicional)?"
      ]
    },
    {
      "cell_type": "markdown",
      "source": [
        "Hay baja dispersion en el tamaño de las valoraciones.Baja el numero cuando aumenta el tamaño de estas.\n",
        "\n",
        "La valoración mas larga es de 2500"
      ],
      "metadata": {
        "id": "-YvhdlRM-lvx"
      }
    },
    {
      "cell_type": "markdown",
      "metadata": {
        "id": "IK8fKDD8zU1N"
      },
      "source": [
        "## Word embeddings\n",
        "\n",
        "Como ya hemos visto, uno de los grandes avances más recientes en el área del procesamiento de lenguaje natural son los *word embeddings*. Los *word embeddings* son una técnica donde las palabras se codifican como vectores de reales en un espacio de dimensión alta, donde las similaridad entre palabras se traduce en cercanía de los vectores. Esto s muy útil ya que al trabajar con redes neuronales se requiere una conversión de las palabras a números. \n",
        "\n",
        "Por el momento no vamos a usar ningún word embedding de los vistos con anterioridad, sino que vamos aprenderlos directamente a partir de nuestros datos. Keras proporciona una manera sencilla de convertir representaciones de palabras mediante enteros positios a un word embedding mediante una capa de ``Embedding``. Esta capa toma argumentos que definen la asociación de palabras a vectores. Estos argumentos incluyen el número máximo de palabras esperadas, también conocido como el tamaño del vocabulario. Esta capa también permite especificar la dimensionalidad de la representación.\n",
        "\n",
        "Queremos usar una representación para nuestro dataset. Digamos que estamos interesados en las 5000 palabras más usadas del dataset. Por lo tanto, nuestro vocabulario tendrá 5000 elementos. También podemos elegir usar un vector de dimensión 32 para representar cada una de las palabras. Finalmente, podemos fijar que la longitud máxima de las valoraciones sea de 500 palabras, truncando aquellas que son más largas y añadiendo ceros a las que son más cortas. Vamos a obtener de nuevo nuestro dataset teniendo esto en cuenta. También vamos a definir un conjunto de validación usando el 20% del conjunto de entrenamiento. "
      ]
    },
    {
      "cell_type": "code",
      "execution_count": 8,
      "metadata": {
        "id": "9_NDC7Nb18NR"
      },
      "outputs": [],
      "source": [
        "from sklearn.model_selection import train_test_split\n",
        "(X_train,y_train), (X_test,y_test) = imdb.load_data(num_words=5000)\n",
        "X_train, X_val, y_train, y_val = train_test_split(X_train, y_train, \n",
        "                                                    test_size=0.2,\n",
        "                                                    random_state=15)"
      ]
    },
    {
      "cell_type": "markdown",
      "metadata": {
        "id": "-SK9-Tl_hb_8"
      },
      "source": [
        "Podemos ahora truncar o completar cada una de las valoraciones para que contenga 500 palabras."
      ]
    },
    {
      "cell_type": "code",
      "execution_count": 11,
      "metadata": {
        "id": "mSzzZrpMhbvc"
      },
      "outputs": [],
      "source": [
        "from keras.preprocessing import sequence\n",
        "from keras.utils import pad_sequences\n",
        "max_words = 500\n",
        "X_train = pad_sequences(X_train, maxlen=max_words)\n",
        "X_val = pad_sequences(X_val, maxlen=max_words)\n",
        "X_test = pad_sequences(X_test, maxlen=max_words)"
      ]
    },
    {
      "cell_type": "markdown",
      "metadata": {
        "id": "nnzqo7W1hsjS"
      },
      "source": [
        "## Modelo Red Neuronal Simple\n",
        "\n",
        "Vamos a construir varios modelos para nuestro dataset. Comenzaremos con una red neuronal multicapa con una única capa oculta. La innovación será la capa de word embedding que muestra cómo se pueden conseguir buenos resultados con un modelo tan simple. \n",
        "\n",
        "Comenzamos importando las funciones necesarias e inicializando una semilla para obtener resultados consistentes. "
      ]
    },
    {
      "cell_type": "code",
      "execution_count": 13,
      "metadata": {
        "id": "JRgSo0KxhVpk"
      },
      "outputs": [],
      "source": [
        "from keras.models import Sequential\n",
        "from keras.layers import Dense\n",
        "from keras.layers import Flatten\n",
        "from tensorflow.keras.layers import Embedding\n",
        "\n",
        "seed = 15\n",
        "np.random.seed(seed)"
      ]
    },
    {
      "cell_type": "markdown",
      "metadata": {
        "id": "h4WK-RLKiOc1"
      },
      "source": [
        "A continuación creamos nuestro modelo."
      ]
    },
    {
      "cell_type": "code",
      "execution_count": 15,
      "metadata": {
        "id": "UWSEjE-FiMIi",
        "colab": {
          "base_uri": "https://localhost:8080/"
        },
        "outputId": "ee70051b-08a9-4f61-daed-0e0a12fbf785"
      },
      "outputs": [
        {
          "output_type": "stream",
          "name": "stdout",
          "text": [
            "Model: \"sequential\"\n",
            "_________________________________________________________________\n",
            " Layer (type)                Output Shape              Param #   \n",
            "=================================================================\n",
            " embedding (Embedding)       (None, 500, 32)           160000    \n",
            "                                                                 \n",
            " flatten (Flatten)           (None, 16000)             0         \n",
            "                                                                 \n",
            " dense (Dense)               (None, 250)               4000250   \n",
            "                                                                 \n",
            " dense_1 (Dense)             (None, 1)                 251       \n",
            "                                                                 \n",
            "=================================================================\n",
            "Total params: 4,160,501\n",
            "Trainable params: 4,160,501\n",
            "Non-trainable params: 0\n",
            "_________________________________________________________________\n",
            "None\n"
          ]
        }
      ],
      "source": [
        "top_words = 5000\n",
        "def create_model():\n",
        "  model = Sequential()\n",
        "  model.add(Embedding(top_words,32,input_length=max_words))\n",
        "  model.add(Flatten())\n",
        "  model.add(Dense(250,activation='relu'))\n",
        "  model.add(Dense(1,activation='sigmoid'))\n",
        "  model.compile(loss='binary_crossentropy',optimizer='adam',metrics=['accuracy'])\n",
        "  print(model.summary())\n",
        "  return model\n",
        "\n",
        "model1 = create_model()"
      ]
    },
    {
      "cell_type": "markdown",
      "metadata": {
        "id": "r3lFAC4Qim6l"
      },
      "source": [
        "Vamos ahora a entrenar el modelo y a mostrar su curva de entrenamiento y validación. "
      ]
    },
    {
      "cell_type": "code",
      "execution_count": 16,
      "metadata": {
        "id": "ka-LkfnTikox",
        "colab": {
          "base_uri": "https://localhost:8080/"
        },
        "outputId": "aa5eb232-f5bd-444b-b796-0100844276d0"
      },
      "outputs": [
        {
          "output_type": "stream",
          "name": "stdout",
          "text": [
            "Epoch 1/10\n",
            "157/157 [==============================] - 33s 174ms/step - loss: 0.5236 - accuracy: 0.7165 - val_loss: 0.3227 - val_accuracy: 0.8618\n",
            "Epoch 2/10\n",
            "157/157 [==============================] - 18s 115ms/step - loss: 0.1984 - accuracy: 0.9236 - val_loss: 0.2975 - val_accuracy: 0.8802\n",
            "Epoch 3/10\n",
            "157/157 [==============================] - 13s 84ms/step - loss: 0.0717 - accuracy: 0.9793 - val_loss: 0.3711 - val_accuracy: 0.8728\n",
            "Epoch 4/10\n",
            "157/157 [==============================] - 6s 41ms/step - loss: 0.0165 - accuracy: 0.9968 - val_loss: 0.4465 - val_accuracy: 0.8718\n",
            "Epoch 5/10\n",
            "157/157 [==============================] - 7s 43ms/step - loss: 0.0030 - accuracy: 0.9998 - val_loss: 0.5148 - val_accuracy: 0.8730\n",
            "Epoch 6/10\n",
            "157/157 [==============================] - 4s 26ms/step - loss: 8.1583e-04 - accuracy: 1.0000 - val_loss: 0.5535 - val_accuracy: 0.8736\n",
            "Epoch 7/10\n",
            "157/157 [==============================] - 4s 24ms/step - loss: 4.3196e-04 - accuracy: 1.0000 - val_loss: 0.5792 - val_accuracy: 0.8738\n",
            "Epoch 8/10\n",
            "157/157 [==============================] - 5s 34ms/step - loss: 2.8396e-04 - accuracy: 1.0000 - val_loss: 0.5984 - val_accuracy: 0.8724\n",
            "Epoch 9/10\n",
            "157/157 [==============================] - 3s 16ms/step - loss: 2.0272e-04 - accuracy: 1.0000 - val_loss: 0.6159 - val_accuracy: 0.8732\n",
            "Epoch 10/10\n",
            "157/157 [==============================] - 3s 20ms/step - loss: 1.5221e-04 - accuracy: 1.0000 - val_loss: 0.6316 - val_accuracy: 0.8730\n"
          ]
        }
      ],
      "source": [
        "history = model1.fit(X_train,y_train,validation_data=(X_val,y_val),epochs=10,batch_size=128,verbose=1)"
      ]
    },
    {
      "cell_type": "code",
      "execution_count": 17,
      "metadata": {
        "id": "Oai2aUhzj1ru",
        "colab": {
          "base_uri": "https://localhost:8080/",
          "height": 452
        },
        "outputId": "cc684a03-c284-400d-9151-697fac699617"
      },
      "outputs": [
        {
          "output_type": "display_data",
          "data": {
            "text/plain": [
              "<Figure size 640x480 with 1 Axes>"
            ],
            "image/png": "[encoded data removed]"
          },
          "metadata": {}
        }
      ],
      "source": [
        "acc = history.history['accuracy']\n",
        "val_acc = history.history['val_accuracy']\n",
        "\n",
        "epochs = range(len(acc))\n",
        "plt.plot(epochs, acc, 'bo')\n",
        "plt.plot(epochs, val_acc, 'b')\n",
        "plt.title('Training and validation accuracy')\n",
        "\n",
        "plt.show()"
      ]
    },
    {
      "cell_type": "markdown",
      "metadata": {
        "id": "ze17EMFCkr8J"
      },
      "source": [
        "##### Ejercicio\n",
        "A partir de las gráficas anteriores ¿qué problema tiene nuestro modelo?"
      ]
    },
    {
      "cell_type": "markdown",
      "metadata": {
        "id": "vWpWs2Nckwzl"
      },
      "source": [
        "Respuesta: "
      ]
    },
    {
      "cell_type": "markdown",
      "metadata": {
        "id": "SIZkZl59k47Z"
      },
      "source": [
        "Para evitar el problema anterior, vamos a entrenar de nuevo nuestra red, pero sólo 2 épocas. "
      ]
    },
    {
      "cell_type": "code",
      "execution_count": 18,
      "metadata": {
        "id": "x6FNEw_nkwRX",
        "colab": {
          "base_uri": "https://localhost:8080/"
        },
        "outputId": "53d2a406-c379-4155-d81c-dd121effc587"
      },
      "outputs": [
        {
          "output_type": "stream",
          "name": "stdout",
          "text": [
            "Model: \"sequential_1\"\n",
            "_________________________________________________________________\n",
            " Layer (type)                Output Shape              Param #   \n",
            "=================================================================\n",
            " embedding_1 (Embedding)     (None, 500, 32)           160000    \n",
            "                                                                 \n",
            " flatten_1 (Flatten)         (None, 16000)             0         \n",
            "                                                                 \n",
            " dense_2 (Dense)             (None, 250)               4000250   \n",
            "                                                                 \n",
            " dense_3 (Dense)             (None, 1)                 251       \n",
            "                                                                 \n",
            "=================================================================\n",
            "Total params: 4,160,501\n",
            "Trainable params: 4,160,501\n",
            "Non-trainable params: 0\n",
            "_________________________________________________________________\n",
            "None\n",
            "Epoch 1/2\n",
            "157/157 [==============================] - 20s 122ms/step - loss: 0.5113 - accuracy: 0.7156 - val_loss: 0.2991 - val_accuracy: 0.8770\n",
            "Epoch 2/2\n",
            "157/157 [==============================] - 13s 79ms/step - loss: 0.1803 - accuracy: 0.9316 - val_loss: 0.3448 - val_accuracy: 0.8660\n"
          ]
        },
        {
          "output_type": "execute_result",
          "data": {
            "text/plain": [
              "<keras.callbacks.History at 0x7fe72f7e9600>"
            ]
          },
          "metadata": {},
          "execution_count": 18
        }
      ],
      "source": [
        "model2 = create_model()\n",
        "model2.fit(X_train,y_train,validation_data=(X_val,y_val),epochs=2,batch_size=128,verbose=1)"
      ]
    },
    {
      "cell_type": "markdown",
      "metadata": {
        "id": "A6GSdAl0lR3d"
      },
      "source": [
        "Por último, evaluamos nuestro modelo en el conjunto de test. "
      ]
    },
    {
      "cell_type": "code",
      "execution_count": null,
      "metadata": {
        "id": "mK6mqa7ilC-d"
      },
      "outputs": [],
      "source": [
        "scores = model2.evaluate(X_test, y_test, verbose=0)\n",
        "print(\"Accuracy: %.2f%%\" % (scores[1]*100))"
      ]
    },
    {
      "cell_type": "markdown",
      "metadata": {
        "id": "ZC52vpEllnzr"
      },
      "source": [
        "Podemos también evaluar el modelo que tenía el problema y podemos ver que la accuracy es peor que la que hemos obtenido con el otro modelo, a pesar de haberlo entrenado por menos tiempo. "
      ]
    },
    {
      "cell_type": "code",
      "execution_count": null,
      "metadata": {
        "id": "bq1mZ62ilcyt"
      },
      "outputs": [],
      "source": [
        "scores = model1.evaluate(X_test, y_test, verbose=0)\n",
        "print(\"Accuracy: %.2f%%\" % (scores[1]*100))"
      ]
    },
    {
      "cell_type": "markdown",
      "metadata": {
        "id": "yjnMFte6l3KI"
      },
      "source": [
        "## Red neuronal convolucional de una dimensión\n",
        "\n",
        "Las redes neuronales convolucionales fueron creadas para tener en cuenta la estructura espacial de los datos en imágenes siendo robustas a cambios en la posición y orientación de los objetos. Este mismo principio se puede aplicar a secuencias como son las secuencias 1-dimensionales de palabras de una valoración de película.  Vamos a utilizar dicha propiedad en nuestro problema. \n",
        "\n",
        "Comenzamos cargando las librerías necesarias para trabajar con redes convolucionales 1-dimensionales. "
      ]
    },
    {
      "cell_type": "code",
      "execution_count": 14,
      "metadata": {
        "id": "1ZOstGNRl0tt"
      },
      "outputs": [],
      "source": [
        "from keras.models import Sequential\n",
        "from keras.layers import Dense\n",
        "from keras.layers import Flatten\n",
        "from keras.layers.convolutional import Convolution1D\n",
        "from keras.layers.convolutional import MaxPooling1D\n",
        "from tensorflow.keras.layers import Embedding"
      ]
    },
    {
      "cell_type": "markdown",
      "metadata": {
        "id": "WlWLECjrmu7T"
      },
      "source": [
        "Definimos el modelo."
      ]
    },
    {
      "cell_type": "code",
      "execution_count": null,
      "metadata": {
        "id": "TQrHI4dBmswa"
      },
      "outputs": [],
      "source": [
        "def create_cnn_model():\n",
        "  model = Sequential()\n",
        "  model.add(Embedding(top_words,32,input_length=max_words))\n",
        "  model.add(Convolution1D(filters=32,kernel_size=3,padding='same',activation='relu'))\n",
        "  model.add(MaxPooling1D(pool_size=2))\n",
        "  model.add(Flatten())\n",
        "  model.add(Dense(250,activation='relu'))\n",
        "  model.add(Dense(1,activation='sigmoid'))\n",
        "  model.compile(loss='binary_crossentropy',optimizer='adam',metrics=['accuracy'])\n",
        "  print(model.summary())\n",
        "  return model\n",
        "\n",
        "model3 = create_cnn_model()"
      ]
    },
    {
      "cell_type": "markdown",
      "metadata": {
        "id": "6afTi6sNnPNy"
      },
      "source": [
        "Entrenamos este nuevo modelo. "
      ]
    },
    {
      "cell_type": "code",
      "execution_count": null,
      "metadata": {
        "id": "IRzY8kF4nLym"
      },
      "outputs": [],
      "source": [
        "model3.fit(X_train,y_train,validation_data=(X_val,y_val),epochs=2,batch_size=128,verbose=1)"
      ]
    },
    {
      "cell_type": "markdown",
      "metadata": {
        "id": "kHSZVP6_nWYF"
      },
      "source": [
        "Y evaluamos su precisión. "
      ]
    },
    {
      "cell_type": "code",
      "execution_count": null,
      "metadata": {
        "id": "GwzB0dVqnUXu"
      },
      "outputs": [],
      "source": [
        "scores = model3.evaluate(X_test, y_test, verbose=0)\n",
        "print(\"Accuracy: %.2f%%\" % (scores[1]*100))"
      ]
    },
    {
      "cell_type": "markdown",
      "metadata": {
        "id": "fsbGqqqyndQ2"
      },
      "source": [
        "Como podemos ver, este modelo mejora los resultados obtenidos con el modelo anterior. "
      ]
    },
    {
      "cell_type": "markdown",
      "metadata": {
        "id": "8mDQSJRQnrQs"
      },
      "source": [
        "## LSTM\n",
        "\n",
        "Vamos a crear ahora una pequeña red LSTM. Como en casos anteriores comenzamos cargando las librerías necesarias. "
      ]
    },
    {
      "cell_type": "code",
      "execution_count": null,
      "metadata": {
        "id": "_aWkJRNRnbCu"
      },
      "outputs": [],
      "source": [
        "from keras.layers import LSTM"
      ]
    },
    {
      "cell_type": "markdown",
      "metadata": {
        "id": "jR1BM2Z2n2vx"
      },
      "source": [
        "Definimos el modelo. "
      ]
    },
    {
      "cell_type": "code",
      "execution_count": null,
      "metadata": {
        "id": "xrX9oAPKn1XD"
      },
      "outputs": [],
      "source": [
        "def create_lstm_model():\n",
        "  model = Sequential()\n",
        "  model.add(Embedding(top_words,32,input_length=max_words))\n",
        "  model.add(LSTM(100))\n",
        "  model.add(Dense(1,activation='sigmoid'))\n",
        "  model.compile(loss='binary_crossentropy',optimizer='adam',metrics=['accuracy'])\n",
        "  print(model.summary())\n",
        "  return model\n",
        "\n",
        "model4 = create_lstm_model()"
      ]
    },
    {
      "cell_type": "markdown",
      "metadata": {
        "id": "3rSULKl_oOQG"
      },
      "source": [
        "Entrenamos el modelo. "
      ]
    },
    {
      "cell_type": "code",
      "execution_count": null,
      "metadata": {
        "id": "EfXNhtt7oIAe"
      },
      "outputs": [],
      "source": [
        "model4.fit(X_train,y_train,validation_data=(X_val,y_val),epochs=2,batch_size=128,verbose=1)"
      ]
    },
    {
      "cell_type": "markdown",
      "metadata": {
        "id": "LZ5frttYobKh"
      },
      "source": [
        "Y por último lo evaluamos contra el conjunto de test. "
      ]
    },
    {
      "cell_type": "code",
      "execution_count": null,
      "metadata": {
        "id": "wTLDWgMgoac3"
      },
      "outputs": [],
      "source": [
        "scores = model4.evaluate(X_test, y_test, verbose=0)\n",
        "print(\"Accuracy: %.2f%%\" % (scores[1]*100))"
      ]
    },
    {
      "cell_type": "markdown",
      "metadata": {
        "id": "T8bqux5Xppmv"
      },
      "source": [
        "## LSTM con Dropout\n",
        "\n",
        "Uno de los problemas que tienen todas las redes que hemos definido hasta ahora es que tienden a sobreajustarse muy rápido. Para evitar dicho problema se puede utilizar la técnica de Dropout. \n",
        "\n",
        "Para ello definimos el siguiente modelo. \n"
      ]
    },
    {
      "cell_type": "code",
      "execution_count": null,
      "metadata": {
        "id": "lTen2yrTH2-7"
      },
      "outputs": [],
      "source": [
        "from keras.layers import Dropout"
      ]
    },
    {
      "cell_type": "code",
      "execution_count": null,
      "metadata": {
        "id": "wGsBXaOqohAA"
      },
      "outputs": [],
      "source": [
        "def create_lstm_dropout_model():\n",
        "  model = Sequential()\n",
        "  model.add(Embedding(top_words,32,input_length=max_words))\n",
        "  model.add(Dropout(0.2))\n",
        "  model.add(LSTM(100,dropout=0.2,recurrent_dropout=0.2))\n",
        "  model.add(Dense(1,activation='sigmoid'))\n",
        "  model.compile(loss='binary_crossentropy',optimizer='adam',metrics=['accuracy'])\n",
        "  print(model.summary())\n",
        "  return model\n",
        "\n",
        "model5 = create_lstm_dropout_model()"
      ]
    },
    {
      "cell_type": "markdown",
      "metadata": {
        "id": "dUkSHypcqWSA"
      },
      "source": [
        "##### Ejercicio\n",
        "\n",
        "¿Por cuántas épocas puedes entrenar el nuevo modelo hasta que aparece el sobreajuste?"
      ]
    },
    {
      "cell_type": "code",
      "execution_count": null,
      "metadata": {
        "id": "p5A8Z6yKqNgz"
      },
      "outputs": [],
      "source": []
    },
    {
      "cell_type": "code",
      "execution_count": null,
      "metadata": {
        "id": "me8f6oPeq19p"
      },
      "outputs": [],
      "source": [
        "acc = history.history['accuracy']\n",
        "val_acc = history.history['val_accuracy']\n",
        "\n",
        "epochs = range(len(acc))\n",
        "plt.plot(epochs, acc, 'bo')\n",
        "plt.plot(epochs, val_acc, 'b')\n",
        "plt.title('Training and validation accuracy')\n",
        "\n",
        "plt.show()"
      ]
    },
    {
      "cell_type": "markdown",
      "metadata": {
        "id": "lQIuOOWXqxby"
      },
      "source": [
        "##### Ejercicio\n",
        "¿Qué accuracy consigues obtener con este nuevo modelo?"
      ]
    },
    {
      "cell_type": "code",
      "execution_count": null,
      "metadata": {
        "id": "wG5-xqfGqgPE"
      },
      "outputs": [],
      "source": []
    },
    {
      "cell_type": "markdown",
      "metadata": {
        "id": "RtNaqjrGq99k"
      },
      "source": [
        "## Predicciones propias\n",
        "\n",
        "Una vez construido nuestro modelo nos interesa probarlo con nuestras propias valoraciones. Para ello debemos convertir la frase a un formato que pueda alimentar a la red como se muestra a continuación. "
      ]
    },
    {
      "cell_type": "code",
      "execution_count": null,
      "metadata": {
        "id": "cDDVBruxrNa9"
      },
      "outputs": [],
      "source": [
        "review = \"i generally love this type of movie however this time i found myself wanting to kick the screen since i can't do that i will just complain about it this was absolutely awful\"\n",
        "review = review.split(\" \")\n",
        "review = [word_index[w] for w in review]\n",
        "review = sequence.pad_sequences([review], maxlen=max_words)"
      ]
    },
    {
      "cell_type": "markdown",
      "metadata": {
        "id": "BhooNGoUsHvN"
      },
      "source": [
        "Y hacer la predicción con uno de nuestros modelos. "
      ]
    },
    {
      "cell_type": "code",
      "execution_count": null,
      "metadata": {
        "id": "6E2_-XncrVHO"
      },
      "outputs": [],
      "source": [
        "model4.predict(review)"
      ]
    },
    {
      "cell_type": "markdown",
      "metadata": {
        "id": "BzXx3K-_tJcM"
      },
      "source": [
        "## Ejercicio obligatorio\n",
        "\n",
        "El problema que hemos visto es un problema de clasificación binaria, existe otro dataset, [Reuters](https://keras.io/api/datasets/reuters/), para la clasificación multiclase (dicho dataset está disponible en [Keras](https://keras.io/datasets/#reuters-newswire-topics-classification)). El ejercicio consite en entrenar un modelo (utilizando las mismas ideas presentadas en este notebook) para dicho problema. Ten en cuenta que con dicho dataset no podrás utilizar como función de pérdida ``binary_crossentropy`` (preparada para problemas binarios) sino que deberás usar la función de pérdida ``categorical_crossentropy``. Además deberás cambiar el modelo para que su salida no sea un único número sino el número de clases. Por último deberás transformar las etiquetas para que tengan formato [one-hot](https://machinelearningmastery.com/multi-class-classification-tutorial-keras-deep-learning-library/).\n",
        "\n",
        "Añade a continuación todas las celdas que necesites. "
      ]
    },
    {
      "cell_type": "code",
      "execution_count": null,
      "metadata": {
        "id": "C7SJBHgytI0G"
      },
      "outputs": [],
      "source": []
    },
    {
      "cell_type": "markdown",
      "metadata": {
        "id": "IbqRWAE7Nlli"
      },
      "source": [
        "## Ejercicio opcional \n",
        "\n",
        "A lo largo de la práctica los embeddings se han aprendido al entrenar la propia red. El ejercicio opcional consiste en utilizar embeddings preentrenados y utilizarlos para construir distintos modelos (ten en cuenta que deberás cambiar la estructura de las redes) con uno de los dos datasets vistos en la práctica. Para esto puedes seguir el siguiente [tutorial de Keras](https://keras.io/examples/nlp/pretrained_word_embeddings/)."
      ]
    },
    {
      "cell_type": "code",
      "execution_count": null,
      "metadata": {
        "id": "yvrZj009NlH3"
      },
      "outputs": [],
      "source": []
    },
    {
      "cell_type": "markdown",
      "metadata": {
        "id": "2hd_0BCHSlSy"
      },
      "source": [
        "Recuerda guardar tus cambios en tu repositorio de GitHub usando la opción \"Save in GitHub\" del menú File."
      ]
    }
  ],
  "metadata": {
    "accelerator": "GPU",
    "colab": {
      "name": "practica9_2.ipynb",
      "provenance": [],
      "include_colab_link": true
    },
    "kernelspec": {
      "display_name": "Python 3",
      "language": "python",
      "name": "python3"
    },
    "language_info": {
      "codemirror_mode": {
        "name": "ipython",
        "version": 3
      },
      "file_extension": ".py",
      "mimetype": "text/x-python",
      "name": "python",
      "nbconvert_exporter": "python",
      "pygments_lexer": "ipython3",
      "version": "3.6.7"
    }
  },
  "nbformat": 4,
  "nbformat_minor": 0
}